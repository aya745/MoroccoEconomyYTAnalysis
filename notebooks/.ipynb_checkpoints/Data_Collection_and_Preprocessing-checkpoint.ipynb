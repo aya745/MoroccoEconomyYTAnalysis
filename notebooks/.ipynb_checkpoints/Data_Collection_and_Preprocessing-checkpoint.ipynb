{
 "cells": [
  {
   "cell_type": "code",
   "execution_count": 2,
   "id": "0f83c1eb",
   "metadata": {},
   "outputs": [],
   "source": [
    "import os\n",
    "import re\n",
    "import pandas as pd\n",
    "import nltk\n",
    "from nltk.tokenize import word_tokenize\n",
    "from nltk.corpus import stopwords\n",
    "from nltk.stem import WordNetLemmatizer\n"
   ]
  },
  {
   "cell_type": "code",
   "execution_count": 17,
   "id": "6bd0bf59",
   "metadata": {},
   "outputs": [
    {
     "data": {
      "text/html": [
       "<div>\n",
       "<style scoped>\n",
       "    .dataframe tbody tr th:only-of-type {\n",
       "        vertical-align: middle;\n",
       "    }\n",
       "\n",
       "    .dataframe tbody tr th {\n",
       "        vertical-align: top;\n",
       "    }\n",
       "\n",
       "    .dataframe thead th {\n",
       "        text-align: right;\n",
       "    }\n",
       "</style>\n",
       "<table border=\"1\" class=\"dataframe\">\n",
       "  <thead>\n",
       "    <tr style=\"text-align: right;\">\n",
       "      <th></th>\n",
       "      <th>subtitles</th>\n",
       "    </tr>\n",
       "  </thead>\n",
       "  <tbody>\n",
       "    <tr>\n",
       "      <th>0</th>\n",
       "      <td>madame monsieur bonsoir les marocains\\n\\nrésid...</td>\n",
       "    </tr>\n",
       "    <tr>\n",
       "      <th>1</th>\n",
       "      <td>prépondérant dans l'économie le système\\n\\nban...</td>\n",
       "    </tr>\n",
       "    <tr>\n",
       "      <th>2</th>\n",
       "      <td>[Musique]\\n\\nbon\\n\\n[Musique]\\n\\nmais messieur...</td>\n",
       "    </tr>\n",
       "    <tr>\n",
       "      <th>3</th>\n",
       "      <td>en tout\\n\\nbonsoir à toutes et à tous et rende...</td>\n",
       "    </tr>\n",
       "    <tr>\n",
       "      <th>4</th>\n",
       "      <td>[Musique]\\n\\nmerci tout d'abord d'avoir répond...</td>\n",
       "    </tr>\n",
       "  </tbody>\n",
       "</table>\n",
       "</div>"
      ],
      "text/plain": [
       "                                           subtitles\n",
       "0  madame monsieur bonsoir les marocains\\n\\nrésid...\n",
       "1  prépondérant dans l'économie le système\\n\\nban...\n",
       "2  [Musique]\\n\\nbon\\n\\n[Musique]\\n\\nmais messieur...\n",
       "3  en tout\\n\\nbonsoir à toutes et à tous et rende...\n",
       "4  [Musique]\\n\\nmerci tout d'abord d'avoir répond..."
      ]
     },
     "execution_count": 17,
     "metadata": {},
     "output_type": "execute_result"
    }
   ],
   "source": [
    "directory_path = 'C:\\\\Users\\\\tech\\\\Desktop\\\\MoroccoEconomyYTAnalysis\\\\data\\\\raw' \n",
    "all_subtitles = []\n",
    "\n",
    "for filename in os.listdir(directory_path):\n",
    "    if filename.endswith('.txt'):\n",
    "        with open(os.path.join(directory_path, filename), 'r', encoding='utf-8') as f:\n",
    "            content = f.read()\n",
    "            all_subtitles.append(content)\n",
    "\n",
    "df = pd.DataFrame(all_subtitles, columns=['subtitles'])\n",
    "df.head()  # Display the first few rows to inspect your data\n"
   ]
  },
  {
   "cell_type": "code",
   "execution_count": 18,
   "id": "ab05fd4f",
   "metadata": {},
   "outputs": [
    {
     "data": {
      "text/html": [
       "<div>\n",
       "<style scoped>\n",
       "    .dataframe tbody tr th:only-of-type {\n",
       "        vertical-align: middle;\n",
       "    }\n",
       "\n",
       "    .dataframe tbody tr th {\n",
       "        vertical-align: top;\n",
       "    }\n",
       "\n",
       "    .dataframe thead th {\n",
       "        text-align: right;\n",
       "    }\n",
       "</style>\n",
       "<table border=\"1\" class=\"dataframe\">\n",
       "  <thead>\n",
       "    <tr style=\"text-align: right;\">\n",
       "      <th></th>\n",
       "      <th>subtitles</th>\n",
       "    </tr>\n",
       "  </thead>\n",
       "  <tbody>\n",
       "    <tr>\n",
       "      <th>0</th>\n",
       "      <td>madame monsieur bonsoir les marocains\\n\\nrésid...</td>\n",
       "    </tr>\n",
       "    <tr>\n",
       "      <th>1</th>\n",
       "      <td>prépondérant dans l'économie le système\\n\\nban...</td>\n",
       "    </tr>\n",
       "    <tr>\n",
       "      <th>2</th>\n",
       "      <td>\\n\\nbon\\n\\n\\n\\nmais messieurs bonsoir et bienv...</td>\n",
       "    </tr>\n",
       "    <tr>\n",
       "      <th>3</th>\n",
       "      <td>en tout\\n\\nbonsoir à toutes et à tous et rende...</td>\n",
       "    </tr>\n",
       "    <tr>\n",
       "      <th>4</th>\n",
       "      <td>\\n\\nmerci tout d'abord d'avoir répondu à\\n\\nno...</td>\n",
       "    </tr>\n",
       "  </tbody>\n",
       "</table>\n",
       "</div>"
      ],
      "text/plain": [
       "                                           subtitles\n",
       "0  madame monsieur bonsoir les marocains\\n\\nrésid...\n",
       "1  prépondérant dans l'économie le système\\n\\nban...\n",
       "2  \\n\\nbon\\n\\n\\n\\nmais messieurs bonsoir et bienv...\n",
       "3  en tout\\n\\nbonsoir à toutes et à tous et rende...\n",
       "4  \\n\\nmerci tout d'abord d'avoir répondu à\\n\\nno..."
      ]
     },
     "execution_count": 18,
     "metadata": {},
     "output_type": "execute_result"
    }
   ],
   "source": [
    "def remove_music(text):\n",
    "    return re.sub(r'\\[Musique\\]', '', text)  \n",
    "\n",
    "df['subtitles'] = df['subtitles'].apply(remove_music)\n",
    "df.head()\n"
   ]
  },
  {
   "cell_type": "code",
   "execution_count": 19,
   "id": "c68977c7",
   "metadata": {},
   "outputs": [
    {
     "data": {
      "text/html": [
       "<div>\n",
       "<style scoped>\n",
       "    .dataframe tbody tr th:only-of-type {\n",
       "        vertical-align: middle;\n",
       "    }\n",
       "\n",
       "    .dataframe tbody tr th {\n",
       "        vertical-align: top;\n",
       "    }\n",
       "\n",
       "    .dataframe thead th {\n",
       "        text-align: right;\n",
       "    }\n",
       "</style>\n",
       "<table border=\"1\" class=\"dataframe\">\n",
       "  <thead>\n",
       "    <tr style=\"text-align: right;\">\n",
       "      <th></th>\n",
       "      <th>subtitles</th>\n",
       "    </tr>\n",
       "  </thead>\n",
       "  <tbody>\n",
       "    <tr>\n",
       "      <th>0</th>\n",
       "      <td>madame monsieur bonsoir les marocains  résiden...</td>\n",
       "    </tr>\n",
       "    <tr>\n",
       "      <th>1</th>\n",
       "      <td>prépondérant dans l'économie le système  banca...</td>\n",
       "    </tr>\n",
       "    <tr>\n",
       "      <th>2</th>\n",
       "      <td>bon    mais messieurs bonsoir et bienvenue d...</td>\n",
       "    </tr>\n",
       "    <tr>\n",
       "      <th>3</th>\n",
       "      <td>en tout  bonsoir à toutes et à tous et rendez ...</td>\n",
       "    </tr>\n",
       "    <tr>\n",
       "      <th>4</th>\n",
       "      <td>merci tout d'abord d'avoir répondu à  notre ...</td>\n",
       "    </tr>\n",
       "  </tbody>\n",
       "</table>\n",
       "</div>"
      ],
      "text/plain": [
       "                                           subtitles\n",
       "0  madame monsieur bonsoir les marocains  résiden...\n",
       "1  prépondérant dans l'économie le système  banca...\n",
       "2    bon    mais messieurs bonsoir et bienvenue d...\n",
       "3  en tout  bonsoir à toutes et à tous et rendez ...\n",
       "4    merci tout d'abord d'avoir répondu à  notre ..."
      ]
     },
     "execution_count": 19,
     "metadata": {},
     "output_type": "execute_result"
    }
   ],
   "source": [
    "def remove_newlines(text):\n",
    "    return re.sub(r'\\n', ' ', text)  # replacing with space to keep words separate\n",
    "\n",
    "df['subtitles'] = df['subtitles'].apply(remove_newlines)\n",
    "df.head()\n"
   ]
  },
  {
   "cell_type": "code",
   "execution_count": 20,
   "id": "8bc753a9",
   "metadata": {},
   "outputs": [
    {
     "data": {
      "text/html": [
       "<div>\n",
       "<style scoped>\n",
       "    .dataframe tbody tr th:only-of-type {\n",
       "        vertical-align: middle;\n",
       "    }\n",
       "\n",
       "    .dataframe tbody tr th {\n",
       "        vertical-align: top;\n",
       "    }\n",
       "\n",
       "    .dataframe thead th {\n",
       "        text-align: right;\n",
       "    }\n",
       "</style>\n",
       "<table border=\"1\" class=\"dataframe\">\n",
       "  <thead>\n",
       "    <tr style=\"text-align: right;\">\n",
       "      <th></th>\n",
       "      <th>subtitles</th>\n",
       "    </tr>\n",
       "  </thead>\n",
       "  <tbody>\n",
       "    <tr>\n",
       "      <th>0</th>\n",
       "      <td>madame monsieur bonsoir les marocains  résiden...</td>\n",
       "    </tr>\n",
       "    <tr>\n",
       "      <th>1</th>\n",
       "      <td>prépondérant dans l'économie le système  banca...</td>\n",
       "    </tr>\n",
       "    <tr>\n",
       "      <th>2</th>\n",
       "      <td>bon    mais messieurs bonsoir et bienvenue d...</td>\n",
       "    </tr>\n",
       "    <tr>\n",
       "      <th>3</th>\n",
       "      <td>en tout  bonsoir à toutes et à tous et rendez ...</td>\n",
       "    </tr>\n",
       "    <tr>\n",
       "      <th>4</th>\n",
       "      <td>merci tout d'abord d'avoir répondu à  notre ...</td>\n",
       "    </tr>\n",
       "  </tbody>\n",
       "</table>\n",
       "</div>"
      ],
      "text/plain": [
       "                                           subtitles\n",
       "0  madame monsieur bonsoir les marocains  résiden...\n",
       "1  prépondérant dans l'économie le système  banca...\n",
       "2    bon    mais messieurs bonsoir et bienvenue d...\n",
       "3  en tout  bonsoir à toutes et à tous et rendez ...\n",
       "4    merci tout d'abord d'avoir répondu à  notre ..."
      ]
     },
     "execution_count": 20,
     "metadata": {},
     "output_type": "execute_result"
    }
   ],
   "source": [
    "df['subtitles'] = df['subtitles'].str.lower()\n",
    "df.head()\n",
    "\n"
   ]
  },
  {
   "cell_type": "code",
   "execution_count": 21,
   "id": "c8a36963",
   "metadata": {},
   "outputs": [
    {
     "data": {
      "text/html": [
       "<div>\n",
       "<style scoped>\n",
       "    .dataframe tbody tr th:only-of-type {\n",
       "        vertical-align: middle;\n",
       "    }\n",
       "\n",
       "    .dataframe tbody tr th {\n",
       "        vertical-align: top;\n",
       "    }\n",
       "\n",
       "    .dataframe thead th {\n",
       "        text-align: right;\n",
       "    }\n",
       "</style>\n",
       "<table border=\"1\" class=\"dataframe\">\n",
       "  <thead>\n",
       "    <tr style=\"text-align: right;\">\n",
       "      <th></th>\n",
       "      <th>subtitles</th>\n",
       "    </tr>\n",
       "  </thead>\n",
       "  <tbody>\n",
       "    <tr>\n",
       "      <th>0</th>\n",
       "      <td>madame monsieur bonsoir les marocains  résiden...</td>\n",
       "    </tr>\n",
       "    <tr>\n",
       "      <th>1</th>\n",
       "      <td>prépondérant dans léconomie le système  bancai...</td>\n",
       "    </tr>\n",
       "    <tr>\n",
       "      <th>2</th>\n",
       "      <td>bon    mais messieurs bonsoir et bienvenue d...</td>\n",
       "    </tr>\n",
       "    <tr>\n",
       "      <th>3</th>\n",
       "      <td>en tout  bonsoir à toutes et à tous et rendez ...</td>\n",
       "    </tr>\n",
       "    <tr>\n",
       "      <th>4</th>\n",
       "      <td>merci tout dabord davoir répondu à  notre ap...</td>\n",
       "    </tr>\n",
       "  </tbody>\n",
       "</table>\n",
       "</div>"
      ],
      "text/plain": [
       "                                           subtitles\n",
       "0  madame monsieur bonsoir les marocains  résiden...\n",
       "1  prépondérant dans léconomie le système  bancai...\n",
       "2    bon    mais messieurs bonsoir et bienvenue d...\n",
       "3  en tout  bonsoir à toutes et à tous et rendez ...\n",
       "4    merci tout dabord davoir répondu à  notre ap..."
      ]
     },
     "execution_count": 21,
     "metadata": {},
     "output_type": "execute_result"
    }
   ],
   "source": [
    "def remove_punctuation(text):\n",
    "    # This regex keeps French alphabets, spaces, and French special characters\n",
    "    return re.sub(r'[^a-zàâçéèêëîïôûùüÿæœ\\s]', '', text)\n",
    "\n",
    "df['subtitles'] = df['subtitles'].apply(remove_punctuation)\n",
    "df.head()\n"
   ]
  },
  {
   "cell_type": "code",
   "execution_count": 22,
   "id": "7952762b",
   "metadata": {},
   "outputs": [
    {
     "name": "stderr",
     "output_type": "stream",
     "text": [
      "[nltk_data] Downloading package punkt to\n",
      "[nltk_data]     C:\\Users\\tech\\AppData\\Roaming\\nltk_data...\n",
      "[nltk_data]   Unzipping tokenizers\\punkt.zip.\n"
     ]
    },
    {
     "data": {
      "text/html": [
       "<div>\n",
       "<style scoped>\n",
       "    .dataframe tbody tr th:only-of-type {\n",
       "        vertical-align: middle;\n",
       "    }\n",
       "\n",
       "    .dataframe tbody tr th {\n",
       "        vertical-align: top;\n",
       "    }\n",
       "\n",
       "    .dataframe thead th {\n",
       "        text-align: right;\n",
       "    }\n",
       "</style>\n",
       "<table border=\"1\" class=\"dataframe\">\n",
       "  <thead>\n",
       "    <tr style=\"text-align: right;\">\n",
       "      <th></th>\n",
       "      <th>subtitles</th>\n",
       "      <th>tokens</th>\n",
       "    </tr>\n",
       "  </thead>\n",
       "  <tbody>\n",
       "    <tr>\n",
       "      <th>0</th>\n",
       "      <td>madame monsieur bonsoir les marocains  résiden...</td>\n",
       "      <td>[madame, monsieur, bonsoir, les, marocains, ré...</td>\n",
       "    </tr>\n",
       "    <tr>\n",
       "      <th>1</th>\n",
       "      <td>prépondérant dans léconomie le système  bancai...</td>\n",
       "      <td>[prépondérant, dans, léconomie, le, système, b...</td>\n",
       "    </tr>\n",
       "    <tr>\n",
       "      <th>2</th>\n",
       "      <td>bon    mais messieurs bonsoir et bienvenue d...</td>\n",
       "      <td>[bon, mais, messieurs, bonsoir, et, bienvenue,...</td>\n",
       "    </tr>\n",
       "    <tr>\n",
       "      <th>3</th>\n",
       "      <td>en tout  bonsoir à toutes et à tous et rendez ...</td>\n",
       "      <td>[en, tout, bonsoir, à, toutes, et, à, tous, et...</td>\n",
       "    </tr>\n",
       "    <tr>\n",
       "      <th>4</th>\n",
       "      <td>merci tout dabord davoir répondu à  notre ap...</td>\n",
       "      <td>[merci, tout, dabord, davoir, répondu, à, notr...</td>\n",
       "    </tr>\n",
       "  </tbody>\n",
       "</table>\n",
       "</div>"
      ],
      "text/plain": [
       "                                           subtitles   \n",
       "0  madame monsieur bonsoir les marocains  résiden...  \\\n",
       "1  prépondérant dans léconomie le système  bancai...   \n",
       "2    bon    mais messieurs bonsoir et bienvenue d...   \n",
       "3  en tout  bonsoir à toutes et à tous et rendez ...   \n",
       "4    merci tout dabord davoir répondu à  notre ap...   \n",
       "\n",
       "                                              tokens  \n",
       "0  [madame, monsieur, bonsoir, les, marocains, ré...  \n",
       "1  [prépondérant, dans, léconomie, le, système, b...  \n",
       "2  [bon, mais, messieurs, bonsoir, et, bienvenue,...  \n",
       "3  [en, tout, bonsoir, à, toutes, et, à, tous, et...  \n",
       "4  [merci, tout, dabord, davoir, répondu, à, notr...  "
      ]
     },
     "execution_count": 22,
     "metadata": {},
     "output_type": "execute_result"
    }
   ],
   "source": [
    "nltk.download('punkt')  \n",
    "\n",
    "df['tokens'] = df['subtitles'].apply(word_tokenize)\n",
    "df.head()\n"
   ]
  },
  {
   "cell_type": "code",
   "execution_count": 23,
   "id": "712d908f",
   "metadata": {
    "scrolled": true
   },
   "outputs": [
    {
     "name": "stderr",
     "output_type": "stream",
     "text": [
      "[nltk_data] Downloading package stopwords to\n",
      "[nltk_data]     C:\\Users\\tech\\AppData\\Roaming\\nltk_data...\n",
      "[nltk_data]   Unzipping corpora\\stopwords.zip.\n"
     ]
    },
    {
     "data": {
      "text/html": [
       "<div>\n",
       "<style scoped>\n",
       "    .dataframe tbody tr th:only-of-type {\n",
       "        vertical-align: middle;\n",
       "    }\n",
       "\n",
       "    .dataframe tbody tr th {\n",
       "        vertical-align: top;\n",
       "    }\n",
       "\n",
       "    .dataframe thead th {\n",
       "        text-align: right;\n",
       "    }\n",
       "</style>\n",
       "<table border=\"1\" class=\"dataframe\">\n",
       "  <thead>\n",
       "    <tr style=\"text-align: right;\">\n",
       "      <th></th>\n",
       "      <th>subtitles</th>\n",
       "      <th>tokens</th>\n",
       "    </tr>\n",
       "  </thead>\n",
       "  <tbody>\n",
       "    <tr>\n",
       "      <th>0</th>\n",
       "      <td>madame monsieur bonsoir les marocains  résiden...</td>\n",
       "      <td>[madame, monsieur, bonsoir, marocains, résiden...</td>\n",
       "    </tr>\n",
       "    <tr>\n",
       "      <th>1</th>\n",
       "      <td>prépondérant dans léconomie le système  bancai...</td>\n",
       "      <td>[prépondérant, léconomie, système, bancaire, m...</td>\n",
       "    </tr>\n",
       "    <tr>\n",
       "      <th>2</th>\n",
       "      <td>bon    mais messieurs bonsoir et bienvenue d...</td>\n",
       "      <td>[bon, messieurs, bonsoir, bienvenue, minutes, ...</td>\n",
       "    </tr>\n",
       "    <tr>\n",
       "      <th>3</th>\n",
       "      <td>en tout  bonsoir à toutes et à tous et rendez ...</td>\n",
       "      <td>[tout, bonsoir, toutes, tous, rendez, retrouve...</td>\n",
       "    </tr>\n",
       "    <tr>\n",
       "      <th>4</th>\n",
       "      <td>merci tout dabord davoir répondu à  notre ap...</td>\n",
       "      <td>[merci, tout, dabord, davoir, répondu, appel, ...</td>\n",
       "    </tr>\n",
       "  </tbody>\n",
       "</table>\n",
       "</div>"
      ],
      "text/plain": [
       "                                           subtitles   \n",
       "0  madame monsieur bonsoir les marocains  résiden...  \\\n",
       "1  prépondérant dans léconomie le système  bancai...   \n",
       "2    bon    mais messieurs bonsoir et bienvenue d...   \n",
       "3  en tout  bonsoir à toutes et à tous et rendez ...   \n",
       "4    merci tout dabord davoir répondu à  notre ap...   \n",
       "\n",
       "                                              tokens  \n",
       "0  [madame, monsieur, bonsoir, marocains, résiden...  \n",
       "1  [prépondérant, léconomie, système, bancaire, m...  \n",
       "2  [bon, messieurs, bonsoir, bienvenue, minutes, ...  \n",
       "3  [tout, bonsoir, toutes, tous, rendez, retrouve...  \n",
       "4  [merci, tout, dabord, davoir, répondu, appel, ...  "
      ]
     },
     "execution_count": 23,
     "metadata": {},
     "output_type": "execute_result"
    }
   ],
   "source": [
    "nltk.download('stopwords')\n",
    "stop_words = set(stopwords.words('french'))  # Now using French stopwords\n",
    "\n",
    "df['tokens'] = df['tokens'].apply(lambda x: [word for word in x if word not in stop_words])\n",
    "df.head()\n"
   ]
  },
  {
   "cell_type": "code",
   "execution_count": null,
   "id": "6f37c801",
   "metadata": {},
   "outputs": [],
   "source": [
    "\n"
   ]
  },
  {
   "cell_type": "code",
   "execution_count": 27,
   "id": "eb452243",
   "metadata": {},
   "outputs": [],
   "source": [
    "df.to_csv('cleaned_dataset.csv', index=False)\n"
   ]
  },
  {
   "cell_type": "code",
   "execution_count": null,
   "id": "e0aa5eee",
   "metadata": {},
   "outputs": [],
   "source": []
  }
 ],
 "metadata": {
  "kernelspec": {
   "display_name": "Python 3 (ipykernel)",
   "language": "python",
   "name": "python3"
  },
  "language_info": {
   "codemirror_mode": {
    "name": "ipython",
    "version": 3
   },
   "file_extension": ".py",
   "mimetype": "text/x-python",
   "name": "python",
   "nbconvert_exporter": "python",
   "pygments_lexer": "ipython3",
   "version": "3.11.1"
  }
 },
 "nbformat": 4,
 "nbformat_minor": 5
}
